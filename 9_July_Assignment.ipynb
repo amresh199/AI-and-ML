{
  "nbformat": 4,
  "nbformat_minor": 0,
  "metadata": {
    "colab": {
      "name": "9 July Assignment",
      "provenance": []
    },
    "kernelspec": {
      "name": "python3",
      "display_name": "Python 3"
    }
  },
  "cells": [
    {
      "cell_type": "code",
      "metadata": {
        "id": "K0JFY5OiJdkY",
        "colab_type": "code",
        "colab": {}
      },
      "source": [
        "import tensorflow as tf\n",
        "import tensorflow.keras as keras\n",
        "import numpy as np\n",
        "import matplotlib.pyplot as plt\n",
        "%matplotlib inline"
      ],
      "execution_count": 1,
      "outputs": []
    },
    {
      "cell_type": "code",
      "metadata": {
        "id": "GIPJQIAkJe2I",
        "colab_type": "code",
        "colab": {
          "base_uri": "https://localhost:8080/",
          "height": 34
        },
        "outputId": "de39378d-7c90-4877-8836-ef0b75df8bc3"
      },
      "source": [
        "from keras.datasets.mnist import load_data"
      ],
      "execution_count": 2,
      "outputs": [
        {
          "output_type": "stream",
          "text": [
            "Using TensorFlow backend.\n"
          ],
          "name": "stderr"
        }
      ]
    },
    {
      "cell_type": "code",
      "metadata": {
        "id": "Bl2v4HWDJn5i",
        "colab_type": "code",
        "colab": {
          "base_uri": "https://localhost:8080/",
          "height": 84
        },
        "outputId": "6a6c5efb-8a20-4f75-d842-bac0222e2ead"
      },
      "source": [
        "(train_digits,train_labels),(test_digits,test_labels)=load_data()\n",
        "print(train_digits.shape)\n",
        "print(test_digits.shape)"
      ],
      "execution_count": 3,
      "outputs": [
        {
          "output_type": "stream",
          "text": [
            "Downloading data from https://s3.amazonaws.com/img-datasets/mnist.npz\n",
            "11493376/11490434 [==============================] - 0s 0us/step\n",
            "(60000, 28, 28)\n",
            "(10000, 28, 28)\n"
          ],
          "name": "stdout"
        }
      ]
    },
    {
      "cell_type": "code",
      "metadata": {
        "id": "p_m8xzkcJsUp",
        "colab_type": "code",
        "colab": {
          "base_uri": "https://localhost:8080/",
          "height": 218
        },
        "outputId": "acd7e38b-ef93-4132-a3e9-8cc278c5e705"
      },
      "source": [
        "\n",
        "import pandas as pd\n",
        "pd.Series(train_labels).value_counts"
      ],
      "execution_count": 4,
      "outputs": [
        {
          "output_type": "execute_result",
          "data": {
            "text/plain": [
              "<bound method IndexOpsMixin.value_counts of 0        5\n",
              "1        0\n",
              "2        4\n",
              "3        1\n",
              "4        9\n",
              "        ..\n",
              "59995    8\n",
              "59996    3\n",
              "59997    5\n",
              "59998    6\n",
              "59999    8\n",
              "Length: 60000, dtype: uint8>"
            ]
          },
          "metadata": {
            "tags": []
          },
          "execution_count": 4
        }
      ]
    },
    {
      "cell_type": "code",
      "metadata": {
        "id": "xxe_fR3-JuwI",
        "colab_type": "code",
        "colab": {
          "base_uri": "https://localhost:8080/",
          "height": 218
        },
        "outputId": "e5018bdd-ed28-4b85-e802-9a4e91d7181e"
      },
      "source": [
        "pd.Series(test_labels).value_counts"
      ],
      "execution_count": 5,
      "outputs": [
        {
          "output_type": "execute_result",
          "data": {
            "text/plain": [
              "<bound method IndexOpsMixin.value_counts of 0       7\n",
              "1       2\n",
              "2       1\n",
              "3       0\n",
              "4       4\n",
              "       ..\n",
              "9995    2\n",
              "9996    3\n",
              "9997    4\n",
              "9998    5\n",
              "9999    6\n",
              "Length: 10000, dtype: uint8>"
            ]
          },
          "metadata": {
            "tags": []
          },
          "execution_count": 5
        }
      ]
    },
    {
      "cell_type": "code",
      "metadata": {
        "id": "laM2wxfQJyHC",
        "colab_type": "code",
        "colab": {
          "base_uri": "https://localhost:8080/",
          "height": 282
        },
        "outputId": "ebf0ae24-0d81-44d9-83bf-051e81edd8fb"
      },
      "source": [
        "plt.imshow(train_digits[0])"
      ],
      "execution_count": 6,
      "outputs": [
        {
          "output_type": "execute_result",
          "data": {
            "text/plain": [
              "<matplotlib.image.AxesImage at 0x7f72809ac8d0>"
            ]
          },
          "metadata": {
            "tags": []
          },
          "execution_count": 6
        },
        {
          "output_type": "display_data",
          "data": {
            "image/png": "[encoded data removed]",
            "text/plain": [
              "<Figure size 432x288 with 1 Axes>"
            ]
          },
          "metadata": {
            "tags": [],
            "needs_background": "light"
          }
        }
      ]
    },
    {
      "cell_type": "code",
      "metadata": {
        "id": "1LTDyfPFJ279",
        "colab_type": "code",
        "colab": {
          "base_uri": "https://localhost:8080/",
          "height": 298
        },
        "outputId": "a10859e4-1e66-4df0-94a9-3717779d5e57"
      },
      "source": [
        "plt.title(\"Digit:\"+str(train_labels[0]))\n",
        "plt.imshow(train_digits[0],cmap=\"gray\")"
      ],
      "execution_count": 7,
      "outputs": [
        {
          "output_type": "execute_result",
          "data": {
            "text/plain": [
              "<matplotlib.image.AxesImage at 0x7f7280931a90>"
            ]
          },
          "metadata": {
            "tags": []
          },
          "execution_count": 7
        },
        {
          "output_type": "display_data",
          "data": {
            "image/png": "[encoded data removed]",
            "text/plain": [
              "<Figure size 432x288 with 1 Axes>"
            ]
          },
          "metadata": {
            "tags": [],
            "needs_background": "light"
          }
        }
      ]
    },
    {
      "cell_type": "code",
      "metadata": {
        "id": "I63vlNJnJ9u_",
        "colab_type": "code",
        "colab": {
          "base_uri": "https://localhost:8080/",
          "height": 265
        },
        "outputId": "14593da0-5ba1-4593-d0c7-290f0d990b4d"
      },
      "source": [
        "plt.hist(train_digits[0])\n",
        "plt.show()"
      ],
      "execution_count": 8,
      "outputs": [
        {
          "output_type": "display_data",
          "data": {
            "image/png": "[encoded data removed]",
            "text/plain": [
              "<Figure size 432x288 with 1 Axes>"
            ]
          },
          "metadata": {
            "tags": [],
            "needs_background": "light"
          }
        }
      ]
    },
    {
      "cell_type": "code",
      "metadata": {
        "id": "bN-fbPSlKJON",
        "colab_type": "code",
        "colab": {
          "base_uri": "https://localhost:8080/",
          "height": 50
        },
        "outputId": "b4f7f847-358e-4f89-ecc1-fa7888f724d1"
      },
      "source": [
        "samp=np.random.randint(train_digits.shape[0],size=16)\n",
        "samp"
      ],
      "execution_count": 9,
      "outputs": [
        {
          "output_type": "execute_result",
          "data": {
            "text/plain": [
              "array([55241, 18261, 52722, 55890, 19039, 59563, 23393, 47227, 14926,\n",
              "       32190, 41212, 28965, 27614, 15567, 32633,   182])"
            ]
          },
          "metadata": {
            "tags": []
          },
          "execution_count": 9
        }
      ]
    },
    {
      "cell_type": "code",
      "metadata": {
        "id": "kyzPH1UdKPK7",
        "colab_type": "code",
        "colab": {
          "base_uri": "https://localhost:8080/",
          "height": 917
        },
        "outputId": "90870a1a-2ca7-4db4-a3b9-f00b4c50c63d"
      },
      "source": [
        "plt.figure(figsize=(16,16))\n",
        "j=1\n",
        "for i in samp:\n",
        "  plt.subplot(4,4,j)\n",
        "  plt.imshow(train_digits[i])\n",
        "  plt.title(\"Digit:\"+str(train_labels[i]))\n",
        "  plt.axis(\"off\")\n",
        "  j=j+1"
      ],
      "execution_count": 10,
      "outputs": [
        {
          "output_type": "display_data",
          "data": {
            "image/png": "[encoded data removed]",
            "text/plain": [
              "<Figure size 1152x1152 with 16 Axes>"
            ]
          },
          "metadata": {
            "tags": [],
            "needs_background": "light"
          }
        }
      ]
    },
    {
      "cell_type": "code",
      "metadata": {
        "id": "gMwtStlWKSm3",
        "colab_type": "code",
        "colab": {}
      },
      "source": [
        "train_digits_sc=train_digits/255.0\n",
        "test_digits_sc=test_digits/255.0"
      ],
      "execution_count": 11,
      "outputs": []
    },
    {
      "cell_type": "code",
      "metadata": {
        "id": "AbjWMiaxKgzi",
        "colab_type": "code",
        "colab": {}
      },
      "source": [
        "from keras.utils import to_categorical"
      ],
      "execution_count": 12,
      "outputs": []
    },
    {
      "cell_type": "code",
      "metadata": {
        "id": "MbKtVdlSKjJE",
        "colab_type": "code",
        "colab": {}
      },
      "source": [
        "train_labels_cat=to_categorical(train_labels)"
      ],
      "execution_count": 13,
      "outputs": []
    },
    {
      "cell_type": "code",
      "metadata": {
        "id": "fWtet2kKKniY",
        "colab_type": "code",
        "colab": {}
      },
      "source": [
        "test_labels_cat=to_categorical(test_labels)"
      ],
      "execution_count": 14,
      "outputs": []
    },
    {
      "cell_type": "code",
      "metadata": {
        "id": "lea22GQoKsW0",
        "colab_type": "code",
        "colab": {
          "base_uri": "https://localhost:8080/",
          "height": 84
        },
        "outputId": "10815538-e6e9-4f4f-8212-9d6c491d4af9"
      },
      "source": [
        "from sklearn.model_selection import train_test_split\n",
        "x_train,x_val,y_train,y_val=train_test_split(train_digits_sc,train_labels_cat,test_size=0.1,random_state=32)\n",
        "print(x_train.shape)\n",
        "print(x_val.shape)\n",
        "print(y_train.shape)\n",
        "print(y_val.shape)"
      ],
      "execution_count": 15,
      "outputs": [
        {
          "output_type": "stream",
          "text": [
            "(54000, 28, 28)\n",
            "(6000, 28, 28)\n",
            "(54000, 10)\n",
            "(6000, 10)\n"
          ],
          "name": "stdout"
        }
      ]
    },
    {
      "cell_type": "code",
      "metadata": {
        "id": "lGvYdisnKwi7",
        "colab_type": "code",
        "colab": {
          "base_uri": "https://localhost:8080/",
          "height": 353
        },
        "outputId": "e18b2328-e91d-4e7b-a390-9478024a8b68"
      },
      "source": [
        "from keras.models import Sequential\n",
        "from keras.layers import Dense,Flatten\n",
        "\n",
        "model = Sequential()\n",
        "# first layer we need to mention the input shape\n",
        "\n",
        "model.add(Flatten(input_shape=(28,28)))\n",
        "## 784 pixel values as input to this Dense. 128 Neurons in the layers\n",
        "model.add(Dense(128,activation='relu'))# 784 * 128+128\n",
        "model.add(Dense(128,activation='relu'))# \n",
        "model.add(Dense(64,activation='relu'))\n",
        "model.add(Dense(256,activation='relu'))\n",
        "#Final layer\n",
        "model.add(Dense(10,activation='softmax'))\n",
        "model.summary()"
      ],
      "execution_count": 16,
      "outputs": [
        {
          "output_type": "stream",
          "text": [
            "Model: \"sequential_1\"\n",
            "_________________________________________________________________\n",
            "Layer (type)                 Output Shape              Param #   \n",
            "=================================================================\n",
            "flatten_1 (Flatten)          (None, 784)               0         \n",
            "_________________________________________________________________\n",
            "dense_1 (Dense)              (None, 128)               100480    \n",
            "_________________________________________________________________\n",
            "dense_2 (Dense)              (None, 128)               16512     \n",
            "_________________________________________________________________\n",
            "dense_3 (Dense)              (None, 64)                8256      \n",
            "_________________________________________________________________\n",
            "dense_4 (Dense)              (None, 256)               16640     \n",
            "_________________________________________________________________\n",
            "dense_5 (Dense)              (None, 10)                2570      \n",
            "=================================================================\n",
            "Total params: 144,458\n",
            "Trainable params: 144,458\n",
            "Non-trainable params: 0\n",
            "_________________________________________________________________\n"
          ],
          "name": "stdout"
        }
      ]
    },
    {
      "cell_type": "code",
      "metadata": {
        "id": "byQ61vZNK_yw",
        "colab_type": "code",
        "colab": {}
      },
      "source": [
        "model.compile(optimizer='adam',loss=tf.keras.losses.CategoricalCrossentropy(),metrics=['accuracy'])"
      ],
      "execution_count": 17,
      "outputs": []
    },
    {
      "cell_type": "code",
      "metadata": {
        "id": "WUo0PW23LD-3",
        "colab_type": "code",
        "colab": {
          "base_uri": "https://localhost:8080/",
          "height": 202
        },
        "outputId": "553f5b6c-c966-457e-9367-a5dbada85dab"
      },
      "source": [
        "history=model.fit(x=x_train,y=y_train,epochs=5,validation_data=(x_val,y_val),batch_size=32)"
      ],
      "execution_count": 18,
      "outputs": [
        {
          "output_type": "stream",
          "text": [
            "Train on 54000 samples, validate on 6000 samples\n",
            "Epoch 1/5\n",
            "54000/54000 [==============================] - 6s 109us/step - loss: 0.2481 - accuracy: 0.9234 - val_loss: 0.1397 - val_accuracy: 0.9595\n",
            "Epoch 2/5\n",
            "54000/54000 [==============================] - 6s 102us/step - loss: 0.1063 - accuracy: 0.9678 - val_loss: 0.1002 - val_accuracy: 0.9707\n",
            "Epoch 3/5\n",
            "54000/54000 [==============================] - 6s 102us/step - loss: 0.0789 - accuracy: 0.9763 - val_loss: 0.1239 - val_accuracy: 0.9673\n",
            "Epoch 4/5\n",
            "54000/54000 [==============================] - 6s 103us/step - loss: 0.0651 - accuracy: 0.9800 - val_loss: 0.1146 - val_accuracy: 0.9717\n",
            "Epoch 5/5\n",
            "54000/54000 [==============================] - 6s 103us/step - loss: 0.0519 - accuracy: 0.9842 - val_loss: 0.1210 - val_accuracy: 0.9693\n"
          ],
          "name": "stdout"
        }
      ]
    },
    {
      "cell_type": "code",
      "metadata": {
        "id": "Tm716aF9LF3G",
        "colab_type": "code",
        "colab": {
          "base_uri": "https://localhost:8080/",
          "height": 50
        },
        "outputId": "0ccbcd04-f826-4b93-845c-cfefe676a62e"
      },
      "source": [
        "model.evaluate(test_digits_sc,test_labels_cat)"
      ],
      "execution_count": 19,
      "outputs": [
        {
          "output_type": "stream",
          "text": [
            "10000/10000 [==============================] - 0s 29us/step\n"
          ],
          "name": "stdout"
        },
        {
          "output_type": "execute_result",
          "data": {
            "text/plain": [
              "[0.09885476954927436, 0.9721999764442444]"
            ]
          },
          "metadata": {
            "tags": []
          },
          "execution_count": 19
        }
      ]
    },
    {
      "cell_type": "code",
      "metadata": {
        "id": "bjcP-q9QLN-x",
        "colab_type": "code",
        "colab": {
          "base_uri": "https://localhost:8080/",
          "height": 67
        },
        "outputId": "d8a6d4a9-4c97-4be2-bb41-14d4e98c7c47"
      },
      "source": [
        "print(test_digits_sc.shape)\n",
        "print(test_digits_sc[0].shape)\n",
        "print(np.expand_dims(test_digits_sc[0],axis=0).shape)"
      ],
      "execution_count": 20,
      "outputs": [
        {
          "output_type": "stream",
          "text": [
            "(10000, 28, 28)\n",
            "(28, 28)\n",
            "(1, 28, 28)\n"
          ],
          "name": "stdout"
        }
      ]
    },
    {
      "cell_type": "code",
      "metadata": {
        "id": "ZB_YJzPTLQU3",
        "colab_type": "code",
        "colab": {
          "base_uri": "https://localhost:8080/",
          "height": 67
        },
        "outputId": "b1060d86-9262-4f4c-f14d-089d5980f582"
      },
      "source": [
        "model.predict(np.expand_dims(test_digits_sc[0],axis=0))"
      ],
      "execution_count": 21,
      "outputs": [
        {
          "output_type": "execute_result",
          "data": {
            "text/plain": [
              "array([[5.9802623e-08, 1.1195446e-07, 6.7491014e-06, 1.2060920e-06,\n",
              "        6.9521495e-09, 2.3598184e-07, 1.4119024e-10, 9.9998760e-01,\n",
              "        1.0918716e-08, 4.0168688e-06]], dtype=float32)"
            ]
          },
          "metadata": {
            "tags": []
          },
          "execution_count": 21
        }
      ]
    },
    {
      "cell_type": "code",
      "metadata": {
        "id": "vBWyMAohLSUm",
        "colab_type": "code",
        "colab": {
          "base_uri": "https://localhost:8080/",
          "height": 521
        },
        "outputId": "06919fdf-8ea5-40ef-89ed-8cc035160705"
      },
      "source": [
        "\n",
        "model.predict(test_digits_sc[:10])"
      ],
      "execution_count": 22,
      "outputs": [
        {
          "output_type": "execute_result",
          "data": {
            "text/plain": [
              "array([[5.98025025e-08, 1.11954250e-07, 6.74908824e-06, 1.20609081e-06,\n",
              "        6.95214952e-09, 2.35981176e-07, 1.41189171e-10, 9.99987602e-01,\n",
              "        1.09186953e-08, 4.01686111e-06],\n",
              "       [1.59475655e-09, 2.56821142e-08, 9.99999285e-01, 6.03895899e-07,\n",
              "        5.41346594e-08, 1.23233530e-08, 4.41302099e-11, 4.81258660e-08,\n",
              "        4.56033469e-08, 9.91618176e-11],\n",
              "       [8.82593486e-06, 9.99703825e-01, 2.42549759e-05, 3.01074010e-07,\n",
              "        5.12255501e-05, 4.36143637e-06, 6.13267985e-05, 9.59670651e-05,\n",
              "        4.79751361e-05, 1.79992651e-06],\n",
              "       [9.99701321e-01, 1.84458486e-07, 2.40134425e-04, 3.98709108e-06,\n",
              "        3.56523947e-06, 3.13752457e-06, 6.55030362e-06, 1.23990239e-05,\n",
              "        3.79643052e-06, 2.49562563e-05],\n",
              "       [9.07533774e-07, 1.14804665e-04, 9.27080237e-06, 1.92489949e-07,\n",
              "        9.98961568e-01, 2.55839473e-06, 3.94889503e-05, 5.01132781e-05,\n",
              "        2.00844333e-05, 8.01058486e-04],\n",
              "       [5.37844812e-07, 9.99955893e-01, 3.42022986e-07, 5.60231461e-09,\n",
              "        7.71864507e-06, 5.99847567e-08, 2.98321311e-06, 2.93095673e-05,\n",
              "        2.90365438e-06, 2.44636624e-07],\n",
              "       [2.42539711e-10, 2.11035203e-05, 2.12714397e-08, 6.93554519e-11,\n",
              "        9.99945283e-01, 4.16047996e-09, 7.98153110e-07, 7.80395476e-06,\n",
              "        1.30620883e-05, 1.18178559e-05],\n",
              "       [1.57187951e-05, 3.47465771e-04, 2.32012407e-03, 2.80663297e-02,\n",
              "        9.57119279e-04, 1.75284538e-02, 3.68900282e-06, 4.07213112e-04,\n",
              "        8.95249250e-04, 9.49458599e-01],\n",
              "       [2.24042433e-05, 3.36166045e-06, 3.44338114e-05, 4.64565965e-05,\n",
              "        1.31864599e-05, 9.48521137e-01, 5.03490381e-02, 4.53449559e-07,\n",
              "        6.02462620e-04, 4.07060958e-04],\n",
              "       [3.95207955e-08, 1.81565645e-06, 2.69567272e-06, 6.37441417e-06,\n",
              "        1.84814184e-04, 4.80460983e-07, 5.64024216e-10, 3.24866385e-04,\n",
              "        1.15444109e-05, 9.99467313e-01]], dtype=float32)"
            ]
          },
          "metadata": {
            "tags": []
          },
          "execution_count": 22
        }
      ]
    },
    {
      "cell_type": "code",
      "metadata": {
        "id": "RxMCe9l_LVDj",
        "colab_type": "code",
        "colab": {
          "base_uri": "https://localhost:8080/",
          "height": 34
        },
        "outputId": "56f6a781-79ff-4157-bc9e-4b54c2fabb77"
      },
      "source": [
        "model.predict_classes(np.expand_dims(test_digits_sc[0],axis=0))"
      ],
      "execution_count": 23,
      "outputs": [
        {
          "output_type": "execute_result",
          "data": {
            "text/plain": [
              "array([7])"
            ]
          },
          "metadata": {
            "tags": []
          },
          "execution_count": 23
        }
      ]
    },
    {
      "cell_type": "code",
      "metadata": {
        "id": "Jr2ZkIj7LX8e",
        "colab_type": "code",
        "colab": {
          "base_uri": "https://localhost:8080/",
          "height": 67
        },
        "outputId": "6344663c-d52e-4fee-be9a-7a0623821781"
      },
      "source": [
        "model.predict_proba(np.expand_dims(test_digits_sc[0],axis=0))"
      ],
      "execution_count": 24,
      "outputs": [
        {
          "output_type": "execute_result",
          "data": {
            "text/plain": [
              "array([[5.9802623e-08, 1.1195446e-07, 6.7491014e-06, 1.2060920e-06,\n",
              "        6.9521495e-09, 2.3598184e-07, 1.4119024e-10, 9.9998760e-01,\n",
              "        1.0918716e-08, 4.0168688e-06]], dtype=float32)"
            ]
          },
          "metadata": {
            "tags": []
          },
          "execution_count": 24
        }
      ]
    },
    {
      "cell_type": "code",
      "metadata": {
        "id": "HIpYsmaXLZyp",
        "colab_type": "code",
        "colab": {
          "base_uri": "https://localhost:8080/",
          "height": 286
        },
        "outputId": "2731bbce-ab58-42af-db2f-4ecbac14b8d3"
      },
      "source": [
        "history.history"
      ],
      "execution_count": 25,
      "outputs": [
        {
          "output_type": "execute_result",
          "data": {
            "text/plain": [
              "{'accuracy': [0.9234259, 0.96783334, 0.9762963, 0.9799815, 0.9842408],\n",
              " 'loss': [0.2481430881936793,\n",
              "  0.10628083065690266,\n",
              "  0.07886253943535741,\n",
              "  0.06510418938893686,\n",
              "  0.051884779870600646],\n",
              " 'val_accuracy': [0.9595000147819519,\n",
              "  0.9706666469573975,\n",
              "  0.9673333168029785,\n",
              "  0.971666693687439,\n",
              "  0.9693333506584167],\n",
              " 'val_loss': [0.13966652177770933,\n",
              "  0.10021451332171757,\n",
              "  0.12388650040701031,\n",
              "  0.11455939959579457,\n",
              "  0.12098881654573294]}"
            ]
          },
          "metadata": {
            "tags": []
          },
          "execution_count": 25
        }
      ]
    },
    {
      "cell_type": "code",
      "metadata": {
        "id": "HUAhstSuLbtY",
        "colab_type": "code",
        "colab": {
          "base_uri": "https://localhost:8080/",
          "height": 282
        },
        "outputId": "009a7eff-8714-4ad8-bad6-8f3882a32b93"
      },
      "source": [
        "plt.plot(history.history['accuracy'])\n",
        "plt.plot(history.history['val_accuracy'])"
      ],
      "execution_count": 26,
      "outputs": [
        {
          "output_type": "execute_result",
          "data": {
            "text/plain": [
              "[<matplotlib.lines.Line2D at 0x7f7271eb4588>]"
            ]
          },
          "metadata": {
            "tags": []
          },
          "execution_count": 26
        },
        {
          "output_type": "display_data",
          "data": {
            "image/png": "[encoded data removed]",
            "text/plain": [
              "<Figure size 432x288 with 1 Axes>"
            ]
          },
          "metadata": {
            "tags": [],
            "needs_background": "light"
          }
        }
      ]
    },
    {
      "cell_type": "code",
      "metadata": {
        "id": "9BjBvc_dLdrn",
        "colab_type": "code",
        "colab": {
          "base_uri": "https://localhost:8080/",
          "height": 353
        },
        "outputId": "4e9b42bb-c61f-4113-b953-c53457ec05e9"
      },
      "source": [
        "model1 = Sequential()\n",
        "# first layer we need to mention the input shape\n",
        "\n",
        "model1.add(Flatten(input_shape=(28,28)))\n",
        "## 784 pixel values as input to this Dense. 128 Neurons in the layers\n",
        "model1.add(Dense(128,activation='relu'))# 784 * 128+128\n",
        "model1.add(Dense(256,activation='relu'))# \n",
        "model1.add(Dense(64,activation='relu'))\n",
        "model1.add(Dense(256,activation='relu'))\n",
        "#Final layer\n",
        "model1.add(Dense(10,activation='sigmoid'))\n",
        "model1.summary()"
      ],
      "execution_count": 27,
      "outputs": [
        {
          "output_type": "stream",
          "text": [
            "Model: \"sequential_2\"\n",
            "_________________________________________________________________\n",
            "Layer (type)                 Output Shape              Param #   \n",
            "=================================================================\n",
            "flatten_2 (Flatten)          (None, 784)               0         \n",
            "_________________________________________________________________\n",
            "dense_6 (Dense)              (None, 128)               100480    \n",
            "_________________________________________________________________\n",
            "dense_7 (Dense)              (None, 256)               33024     \n",
            "_________________________________________________________________\n",
            "dense_8 (Dense)              (None, 64)                16448     \n",
            "_________________________________________________________________\n",
            "dense_9 (Dense)              (None, 256)               16640     \n",
            "_________________________________________________________________\n",
            "dense_10 (Dense)             (None, 10)                2570      \n",
            "=================================================================\n",
            "Total params: 169,162\n",
            "Trainable params: 169,162\n",
            "Non-trainable params: 0\n",
            "_________________________________________________________________\n"
          ],
          "name": "stdout"
        }
      ]
    },
    {
      "cell_type": "code",
      "metadata": {
        "id": "Kvfkn7zZLf3W",
        "colab_type": "code",
        "colab": {}
      },
      "source": [
        "model1.compile(optimizer='adam',loss=tf.keras.losses.CategoricalCrossentropy(),metrics=['accuracy'])"
      ],
      "execution_count": 28,
      "outputs": []
    },
    {
      "cell_type": "code",
      "metadata": {
        "id": "fbypzXRELiLg",
        "colab_type": "code",
        "colab": {
          "base_uri": "https://localhost:8080/",
          "height": 202
        },
        "outputId": "850fdbaa-aba9-4219-fec9-bf32153ba25d"
      },
      "source": [
        "history=model1.fit(x=x_train,y=y_train,epochs=5,validation_data=(x_val,y_val),batch_size=32)"
      ],
      "execution_count": 29,
      "outputs": [
        {
          "output_type": "stream",
          "text": [
            "Train on 54000 samples, validate on 6000 samples\n",
            "Epoch 1/5\n",
            "54000/54000 [==============================] - 7s 123us/step - loss: 0.2623 - accuracy: 0.9211 - val_loss: 0.1527 - val_accuracy: 0.9595\n",
            "Epoch 2/5\n",
            "54000/54000 [==============================] - 6s 114us/step - loss: 0.1128 - accuracy: 0.9656 - val_loss: 0.1223 - val_accuracy: 0.9657\n",
            "Epoch 3/5\n",
            "54000/54000 [==============================] - 6s 118us/step - loss: 0.0831 - accuracy: 0.9741 - val_loss: 0.1199 - val_accuracy: 0.9673\n",
            "Epoch 4/5\n",
            "54000/54000 [==============================] - 6s 119us/step - loss: 0.0619 - accuracy: 0.9810 - val_loss: 0.0898 - val_accuracy: 0.9758\n",
            "Epoch 5/5\n",
            "54000/54000 [==============================] - 6s 118us/step - loss: 0.0511 - accuracy: 0.9844 - val_loss: 0.1002 - val_accuracy: 0.9747\n"
          ],
          "name": "stdout"
        }
      ]
    },
    {
      "cell_type": "code",
      "metadata": {
        "id": "Ks7lFathLj8g",
        "colab_type": "code",
        "colab": {
          "base_uri": "https://localhost:8080/",
          "height": 50
        },
        "outputId": "6e5395a2-e546-4f7f-fbe2-9c431afda3c3"
      },
      "source": [
        "model1.evaluate(test_digits_sc,test_labels_cat)"
      ],
      "execution_count": 30,
      "outputs": [
        {
          "output_type": "stream",
          "text": [
            "10000/10000 [==============================] - 0s 30us/step\n"
          ],
          "name": "stdout"
        },
        {
          "output_type": "execute_result",
          "data": {
            "text/plain": [
              "[0.08751933365748264, 0.9771000146865845]"
            ]
          },
          "metadata": {
            "tags": []
          },
          "execution_count": 30
        }
      ]
    },
    {
      "cell_type": "code",
      "metadata": {
        "id": "teJ8uLOVLuKK",
        "colab_type": "code",
        "colab": {
          "base_uri": "https://localhost:8080/",
          "height": 67
        },
        "outputId": "e7d1672f-07d7-43ef-abe1-4bfc9faf1980"
      },
      "source": [
        "print(test_digits_sc.shape)\n",
        "print(test_digits_sc[0].shape)\n",
        "print(np.expand_dims(test_digits_sc[0],axis=0).shape)"
      ],
      "execution_count": 31,
      "outputs": [
        {
          "output_type": "stream",
          "text": [
            "(10000, 28, 28)\n",
            "(28, 28)\n",
            "(1, 28, 28)\n"
          ],
          "name": "stdout"
        }
      ]
    },
    {
      "cell_type": "code",
      "metadata": {
        "id": "IvYHTlKKLxNl",
        "colab_type": "code",
        "colab": {
          "base_uri": "https://localhost:8080/",
          "height": 67
        },
        "outputId": "bdf002c2-4ce4-4c9c-a9a7-8650e9049366"
      },
      "source": [
        "model.predict(np.expand_dims(test_digits_sc[0],axis=0))"
      ],
      "execution_count": 32,
      "outputs": [
        {
          "output_type": "execute_result",
          "data": {
            "text/plain": [
              "array([[5.9802623e-08, 1.1195446e-07, 6.7491014e-06, 1.2060920e-06,\n",
              "        6.9521495e-09, 2.3598184e-07, 1.4119024e-10, 9.9998760e-01,\n",
              "        1.0918716e-08, 4.0168688e-06]], dtype=float32)"
            ]
          },
          "metadata": {
            "tags": []
          },
          "execution_count": 32
        }
      ]
    },
    {
      "cell_type": "code",
      "metadata": {
        "id": "aUXO8qavLzCO",
        "colab_type": "code",
        "colab": {
          "base_uri": "https://localhost:8080/",
          "height": 521
        },
        "outputId": "64288f70-c7ce-44c1-e750-66dd1e45133b"
      },
      "source": [
        "model.predict(test_digits_sc[:10])"
      ],
      "execution_count": 33,
      "outputs": [
        {
          "output_type": "execute_result",
          "data": {
            "text/plain": [
              "array([[5.98025025e-08, 1.11954250e-07, 6.74908824e-06, 1.20609081e-06,\n",
              "        6.95214952e-09, 2.35981176e-07, 1.41189171e-10, 9.99987602e-01,\n",
              "        1.09186953e-08, 4.01686111e-06],\n",
              "       [1.59475655e-09, 2.56821142e-08, 9.99999285e-01, 6.03895899e-07,\n",
              "        5.41346594e-08, 1.23233530e-08, 4.41302099e-11, 4.81258660e-08,\n",
              "        4.56033469e-08, 9.91618176e-11],\n",
              "       [8.82593486e-06, 9.99703825e-01, 2.42549759e-05, 3.01074010e-07,\n",
              "        5.12255501e-05, 4.36143637e-06, 6.13267985e-05, 9.59670651e-05,\n",
              "        4.79751361e-05, 1.79992651e-06],\n",
              "       [9.99701321e-01, 1.84458486e-07, 2.40134425e-04, 3.98709108e-06,\n",
              "        3.56523947e-06, 3.13752457e-06, 6.55030362e-06, 1.23990239e-05,\n",
              "        3.79643052e-06, 2.49562563e-05],\n",
              "       [9.07533774e-07, 1.14804665e-04, 9.27080237e-06, 1.92489949e-07,\n",
              "        9.98961568e-01, 2.55839473e-06, 3.94889503e-05, 5.01132781e-05,\n",
              "        2.00844333e-05, 8.01058486e-04],\n",
              "       [5.37844812e-07, 9.99955893e-01, 3.42022986e-07, 5.60231461e-09,\n",
              "        7.71864507e-06, 5.99847567e-08, 2.98321311e-06, 2.93095673e-05,\n",
              "        2.90365438e-06, 2.44636624e-07],\n",
              "       [2.42539711e-10, 2.11035203e-05, 2.12714397e-08, 6.93554519e-11,\n",
              "        9.99945283e-01, 4.16047996e-09, 7.98153110e-07, 7.80395476e-06,\n",
              "        1.30620883e-05, 1.18178559e-05],\n",
              "       [1.57187951e-05, 3.47465771e-04, 2.32012407e-03, 2.80663297e-02,\n",
              "        9.57119279e-04, 1.75284538e-02, 3.68900282e-06, 4.07213112e-04,\n",
              "        8.95249250e-04, 9.49458599e-01],\n",
              "       [2.24042433e-05, 3.36166045e-06, 3.44338114e-05, 4.64565965e-05,\n",
              "        1.31864599e-05, 9.48521137e-01, 5.03490381e-02, 4.53449559e-07,\n",
              "        6.02462620e-04, 4.07060958e-04],\n",
              "       [3.95207955e-08, 1.81565645e-06, 2.69567272e-06, 6.37441417e-06,\n",
              "        1.84814184e-04, 4.80460983e-07, 5.64024216e-10, 3.24866385e-04,\n",
              "        1.15444109e-05, 9.99467313e-01]], dtype=float32)"
            ]
          },
          "metadata": {
            "tags": []
          },
          "execution_count": 33
        }
      ]
    },
    {
      "cell_type": "code",
      "metadata": {
        "id": "XRzMJdeqL1r3",
        "colab_type": "code",
        "colab": {
          "base_uri": "https://localhost:8080/",
          "height": 34
        },
        "outputId": "6a089e00-a2c3-4f69-c9b0-2d8cdbd71e78"
      },
      "source": [
        "model.predict_classes(np.expand_dims(test_digits_sc[0],axis=0))"
      ],
      "execution_count": 34,
      "outputs": [
        {
          "output_type": "execute_result",
          "data": {
            "text/plain": [
              "array([7])"
            ]
          },
          "metadata": {
            "tags": []
          },
          "execution_count": 34
        }
      ]
    },
    {
      "cell_type": "code",
      "metadata": {
        "id": "5xSg-lGSL4kC",
        "colab_type": "code",
        "colab": {
          "base_uri": "https://localhost:8080/",
          "height": 67
        },
        "outputId": "46c2d011-6b98-4d3c-8b76-bfa24cb7867f"
      },
      "source": [
        "model.predict_proba(np.expand_dims(test_digits_sc[0],axis=0))"
      ],
      "execution_count": 35,
      "outputs": [
        {
          "output_type": "execute_result",
          "data": {
            "text/plain": [
              "array([[5.9802623e-08, 1.1195446e-07, 6.7491014e-06, 1.2060920e-06,\n",
              "        6.9521495e-09, 2.3598184e-07, 1.4119024e-10, 9.9998760e-01,\n",
              "        1.0918716e-08, 4.0168688e-06]], dtype=float32)"
            ]
          },
          "metadata": {
            "tags": []
          },
          "execution_count": 35
        }
      ]
    },
    {
      "cell_type": "code",
      "metadata": {
        "id": "D-v1VYbkL62N",
        "colab_type": "code",
        "colab": {
          "base_uri": "https://localhost:8080/",
          "height": 286
        },
        "outputId": "a7471c32-ef1a-44da-e537-bd8571bd3f6f"
      },
      "source": [
        "history.history"
      ],
      "execution_count": 36,
      "outputs": [
        {
          "output_type": "execute_result",
          "data": {
            "text/plain": [
              "{'accuracy': [0.9211481, 0.9656482, 0.9741296, 0.981, 0.9843889],\n",
              " 'loss': [0.2622670727548776,\n",
              "  0.11282621524441573,\n",
              "  0.08314311295713264,\n",
              "  0.06185911735189492,\n",
              "  0.051119491889236354],\n",
              " 'val_accuracy': [0.9595000147819519,\n",
              "  0.965666651725769,\n",
              "  0.9673333168029785,\n",
              "  0.9758333563804626,\n",
              "  0.9746666550636292],\n",
              " 'val_loss': [0.15268795526524384,\n",
              "  0.12232111051678657,\n",
              "  0.11988049498448769,\n",
              "  0.08983619714155794,\n",
              "  0.10019636900350451]}"
            ]
          },
          "metadata": {
            "tags": []
          },
          "execution_count": 36
        }
      ]
    },
    {
      "cell_type": "code",
      "metadata": {
        "id": "HLR4wLJTL8sc",
        "colab_type": "code",
        "colab": {
          "base_uri": "https://localhost:8080/",
          "height": 282
        },
        "outputId": "8fbc33c5-d95c-4f32-edc6-8def90ca87d0"
      },
      "source": [
        "plt.plot(history.history['accuracy'])\n",
        "plt.plot(history.history['val_accuracy'])"
      ],
      "execution_count": 37,
      "outputs": [
        {
          "output_type": "execute_result",
          "data": {
            "text/plain": [
              "[<matplotlib.lines.Line2D at 0x7f7270ee9f28>]"
            ]
          },
          "metadata": {
            "tags": []
          },
          "execution_count": 37
        },
        {
          "output_type": "display_data",
          "data": {
            "image/png": "[encoded data removed]",
            "text/plain": [
              "<Figure size 432x288 with 1 Axes>"
            ]
          },
          "metadata": {
            "tags": [],
            "needs_background": "light"
          }
        }
      ]
    },
    {
      "cell_type": "code",
      "metadata": {
        "id": "C1f_S-PGL-8r",
        "colab_type": "code",
        "colab": {}
      },
      "source": [
        ""
      ],
      "execution_count": null,
      "outputs": []
    }
  ]
}